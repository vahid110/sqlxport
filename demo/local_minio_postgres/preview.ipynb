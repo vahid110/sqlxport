{
  "cells": [
    {
      "cell_type": "code",
      "execution_count": null,
      "id": "load",
      "metadata": {},
      "outputs": [],
      "source": [
        "import pandas as pd\n",
        "df = pd.read_parquet('sales.parquet')\n",
        "df.head()"
      ]
    },
    {
      "cell_type": "code",
      "execution_count": null,
      "id": "group",
      "metadata": {},
      "outputs": [],
      "source": [
        "df.groupby('region')['amount'].sum()"
      ]
    },
    {
      "cell_type": "markdown",
      "metadata": {},
      "id": "ai-summary-markdown",
      "source": [
        "### 🧠 AI Summary (sqlxport --ai-summary)\n",
        "\n",
        "Let's generate a natural-language summary of the exported Parquet data using sqlxport’s `--ai-summary` feature."
      ]
    },
    {
      "cell_type": "code",
      "execution_count": null,
      "id": "ai-summary-cell",
      "metadata": {},
      "outputs": [],
      "source": [
        "!sqlxport preview --local-file sales.parquet --ai-summary"
      ]
    }
  ],
  "metadata": {
    "kernelspec": {
      "display_name": "Python 3",
      "language": "python",
      "name": "python3"
    },
    "language_info": {
      "name": "python",
      "version": "3.10"
    }
  },
  "nbformat": 4,
  "nbformat_minor": 5
}
